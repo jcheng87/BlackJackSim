{
 "cells": [
  {
   "cell_type": "code",
   "execution_count": 1,
   "metadata": {},
   "outputs": [],
   "source": [
    "from bjsim import *"
   ]
  },
  {
   "cell_type": "code",
   "execution_count": 16,
   "metadata": {},
   "outputs": [],
   "source": [
    "class NewDeck:\n",
    "    def __init__(self): \n",
    "        self.deck = [(suit, rank) for suit in SUITS for rank in RANKS]\n",
    "   \n",
    "    #shuffle deck\n",
    "    def shuffle(self):\n",
    "        shuffle(self.deck)\n",
    "\n",
    "    # remove card from deck\n",
    "    def remove_card(self):\n",
    "        self.deck.pop()\n"
   ]
  },
  {
   "cell_type": "code",
   "execution_count": 18,
   "metadata": {},
   "outputs": [],
   "source": [
    "deck1 = NewDeck()"
   ]
  },
  {
   "cell_type": "code",
   "execution_count": 19,
   "metadata": {},
   "outputs": [
    {
     "name": "stdout",
     "output_type": "stream",
     "text": [
      "[('Diamond', '2'), ('Diamond', '3'), ('Diamond', '4'), ('Diamond', '5'), ('Diamond', '6'), ('Diamond', '7'), ('Diamond', '8'), ('Diamond', '9'), ('Diamond', '10'), ('Diamond', 'J'), ('Diamond', 'Q'), ('Diamond', 'K'), ('Diamond', 'A'), ('Clubs', '2'), ('Clubs', '3'), ('Clubs', '4'), ('Clubs', '5'), ('Clubs', '6'), ('Clubs', '7'), ('Clubs', '8'), ('Clubs', '9'), ('Clubs', '10'), ('Clubs', 'J'), ('Clubs', 'Q'), ('Clubs', 'K'), ('Clubs', 'A'), ('Heart', '2'), ('Heart', '3'), ('Heart', '4'), ('Heart', '5'), ('Heart', '6'), ('Heart', '7'), ('Heart', '8'), ('Heart', '9'), ('Heart', '10'), ('Heart', 'J'), ('Heart', 'Q'), ('Heart', 'K'), ('Heart', 'A'), ('Spade', '2'), ('Spade', '3'), ('Spade', '4'), ('Spade', '5'), ('Spade', '6'), ('Spade', '7'), ('Spade', '8'), ('Spade', '9'), ('Spade', '10'), ('Spade', 'J'), ('Spade', 'Q'), ('Spade', 'K'), ('Spade', 'A')]\n"
     ]
    }
   ],
   "source": [
    "print(deck1.deck)"
   ]
  },
  {
   "cell_type": "code",
   "execution_count": 20,
   "metadata": {},
   "outputs": [],
   "source": [
    "deck1.shuffle()"
   ]
  },
  {
   "cell_type": "code",
   "execution_count": 25,
   "metadata": {},
   "outputs": [
    {
     "name": "stdout",
     "output_type": "stream",
     "text": [
      "[('Heart', '8'), ('Spade', 'J'), ('Heart', '7'), ('Clubs', 'Q'), ('Heart', '9'), ('Spade', '6'), ('Clubs', 'K'), ('Diamond', '4'), ('Heart', '10'), ('Clubs', '3'), ('Clubs', '8'), ('Clubs', '6'), ('Clubs', '10'), ('Diamond', '6'), ('Spade', 'A'), ('Spade', 'Q'), ('Heart', '6'), ('Spade', '10'), ('Clubs', '7'), ('Spade', '5'), ('Heart', 'A'), ('Heart', 'J'), ('Spade', '4'), ('Spade', '2'), ('Diamond', 'K'), ('Clubs', '4'), ('Heart', 'Q'), ('Heart', '4'), ('Diamond', 'J'), ('Clubs', 'J'), ('Heart', 'K'), ('Diamond', 'A'), ('Spade', '9'), ('Spade', 'K'), ('Heart', '2'), ('Heart', '5'), ('Diamond', '3'), ('Diamond', '2'), ('Clubs', '5'), ('Diamond', '7'), ('Diamond', '10'), ('Spade', '8'), ('Diamond', '8'), ('Clubs', 'A'), ('Clubs', '9'), ('Heart', '3'), ('Diamond', 'Q'), ('Diamond', '5'), ('Clubs', '2'), ('Diamond', '9'), ('Spade', '7')]\n"
     ]
    }
   ],
   "source": [
    "print(deck1.deck)"
   ]
  },
  {
   "cell_type": "code",
   "execution_count": 24,
   "metadata": {},
   "outputs": [],
   "source": [
    "deck1.remove_card()"
   ]
  },
  {
   "cell_type": "code",
   "execution_count": null,
   "metadata": {},
   "outputs": [],
   "source": []
  }
 ],
 "metadata": {
  "kernelspec": {
   "display_name": "Python 3",
   "language": "python",
   "name": "python3"
  },
  "language_info": {
   "codemirror_mode": {
    "name": "ipython",
    "version": 3
   },
   "file_extension": ".py",
   "mimetype": "text/x-python",
   "name": "python",
   "nbconvert_exporter": "python",
   "pygments_lexer": "ipython3",
   "version": "3.7.4"
  }
 },
 "nbformat": 4,
 "nbformat_minor": 4
}
